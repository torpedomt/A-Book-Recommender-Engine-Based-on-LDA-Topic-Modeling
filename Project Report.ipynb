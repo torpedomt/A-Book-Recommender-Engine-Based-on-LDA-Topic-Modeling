{
 "cells": [
  {
   "cell_type": "markdown",
   "metadata": {},
   "source": [
    "# A Book Recommender Engine Based on LDA Topic Modeling\n",
    "## Asian Fusion 66\n",
    "### Group Members\n",
    " - Weile Chen: Background Research, Data Collection and Data Visualization \n",
    " - Shaoyu Feng: Text Cleaning and Tokenization, EDA Analysis\n",
    " - Mengtong Zhang: LDA Modeling, Parameter Tuning and Model Evaluation\n",
    " - Yunjia Zeng: Recommender Building and Poster"
   ]
  },
  {
   "cell_type": "markdown",
   "metadata": {},
   "source": [
    "## 1 Background and Motivation\n",
    "A recommender system is a computer program that helps a user discover products and content by predicting the user's propensity of each item and showing them the items that they would like. Recommendation systems plays an important role helping users find the product and content they want. In our project, we want to build a book recommender engine based on Latent Dirichlet Allocation (LDA) model, which is widely used for topic modeling and opinion analysis.\n",
    "\n",
    "In natural language processing, latent Dirichlet allocation (LDA) is a generative statistical model that allows sets of observations to be explained by unobserved groups that explain why some parts of the data are similar. For example, if observations are words collected into documents, it posits that each document is a mixture of a small number of topics and that each word's presence is attributable to one of the document's topics. LDA is an example of a topic model.\n",
    "\n",
    "Next, we will conduct our project in 3 steps:\n",
    " - Preprocessing the data\n",
    "     - Read Data\n",
    "     - EDA Analysis\n",
    "     - Data Cleaning\n",
    " - Modeling\n",
    "     - Constructing LDA model with *Gensim*.\n",
    "     - Determining the number of topics with diffrent Measures\n",
    "     - Illustrating topics with top weights words of each topic\n",
    "     - Model Evaluation\n",
    "     - Examples of applying the model\n",
    " - The Recommender Engine"
   ]
  },
  {
   "cell_type": "markdown",
   "metadata": {},
   "source": [
    "## 2 Preprocessing the Data\n",
    "In this project, we use wikipedia book data as our database. We select 36050 book names (lives in *Book.csv* in the project folder) and request their wikipedia content using *Wikipedia* library in Python. The data lives in _text.csv_ in the project folder, where contains the book names, their corresponding wikipedia content and the length of the content.\n",
    "### 2.1 Read the Data"
   ]
  },
  {
   "cell_type": "code",
   "execution_count": 8,
   "metadata": {},
   "outputs": [],
   "source": [
    "import pandas as pd\n",
    "import warnings\n",
    "warnings.filterwarnings(\"ignore\")\n",
    "data = pd.read_csv('/Users/zmt/Desktop/text.csv',index_col=False).drop(['Unnamed: 0'],axis=1)"
   ]
  },
  {
   "cell_type": "code",
   "execution_count": 582,
   "metadata": {},
   "outputs": [
    {
     "data": {
      "text/plain": [
       "(36050, 3)"
      ]
     },
     "execution_count": 582,
     "metadata": {},
     "output_type": "execute_result"
    }
   ],
   "source": [
    "data.shape"
   ]
  },
  {
   "cell_type": "code",
   "execution_count": 583,
   "metadata": {},
   "outputs": [
    {
     "data": {
      "text/html": [
       "<div>\n",
       "<style scoped>\n",
       "    .dataframe tbody tr th:only-of-type {\n",
       "        vertical-align: middle;\n",
       "    }\n",
       "\n",
       "    .dataframe tbody tr th {\n",
       "        vertical-align: top;\n",
       "    }\n",
       "\n",
       "    .dataframe thead th {\n",
       "        text-align: right;\n",
       "    }\n",
       "</style>\n",
       "<table border=\"1\" class=\"dataframe\">\n",
       "  <thead>\n",
       "    <tr style=\"text-align: right;\">\n",
       "      <th></th>\n",
       "      <th>name</th>\n",
       "      <th>text</th>\n",
       "      <th>length</th>\n",
       "    </tr>\n",
       "  </thead>\n",
       "  <tbody>\n",
       "    <tr>\n",
       "      <th>0</th>\n",
       "      <td>Freud: His Life and His Mind</td>\n",
       "      <td>Freud: His Life and His Mind is a 1947 biograp...</td>\n",
       "      <td>2859</td>\n",
       "    </tr>\n",
       "    <tr>\n",
       "      <th>1</th>\n",
       "      <td>Blackbox (novel)</td>\n",
       "      <td>Blackbox is the first novel by British writer ...</td>\n",
       "      <td>596</td>\n",
       "    </tr>\n",
       "    <tr>\n",
       "      <th>2</th>\n",
       "      <td>My Real Children</td>\n",
       "      <td>My Real Children is a 2014 alternate history n...</td>\n",
       "      <td>3270</td>\n",
       "    </tr>\n",
       "    <tr>\n",
       "      <th>3</th>\n",
       "      <td>The Alleys of Eden</td>\n",
       "      <td>The Alleys of Eden is the first published nove...</td>\n",
       "      <td>1149</td>\n",
       "    </tr>\n",
       "    <tr>\n",
       "      <th>4</th>\n",
       "      <td>Day of the Dogs</td>\n",
       "      <td>Day of the Dogs is an original novel written b...</td>\n",
       "      <td>524</td>\n",
       "    </tr>\n",
       "  </tbody>\n",
       "</table>\n",
       "</div>"
      ],
      "text/plain": [
       "                           name  \\\n",
       "0  Freud: His Life and His Mind   \n",
       "1              Blackbox (novel)   \n",
       "2              My Real Children   \n",
       "3            The Alleys of Eden   \n",
       "4               Day of the Dogs   \n",
       "\n",
       "                                                text  length  \n",
       "0  Freud: His Life and His Mind is a 1947 biograp...    2859  \n",
       "1  Blackbox is the first novel by British writer ...     596  \n",
       "2  My Real Children is a 2014 alternate history n...    3270  \n",
       "3  The Alleys of Eden is the first published nove...    1149  \n",
       "4  Day of the Dogs is an original novel written b...     524  "
      ]
     },
     "execution_count": 583,
     "metadata": {},
     "output_type": "execute_result"
    }
   ],
   "source": [
    "data.head(5)"
   ]
  },
  {
   "cell_type": "code",
   "execution_count": 26,
   "metadata": {},
   "outputs": [
    {
     "name": "stdout",
     "output_type": "stream",
     "text": [
      "Freud: His Life and His Mind is a 1947 biography of Sigmund Freud, the founder of psychoanalysis, by Helen Walker Puner. The book was reprinted in 1959 with a new foreword by the psychoanalyst Erich Fromm. The work was praised by Fromm, but has also received criticism from scholars.\n",
      "\n",
      "\n",
      "== Summary ==\n",
      "Puner attempts to explain Freud's life and his accomplishments.\n",
      "\n",
      "\n",
      "== Publication history ==\n",
      "Freud: His Life and His Mind was first published in 1947 by Dell Publishing. It was reprinted in 1959 with a new foreword by the psychoanalyst Erich Fromm.\n",
      "\n",
      "\n",
      "== Reception ==\n",
      "\n",
      "\n",
      "=== Responses from Freud's family ===\n",
      "The psychoanalyst Anna Freud was outraged by Puner's work, describing it as \"horrible\" in a letter to Ernest Jones. Oliver Freud had a less negative view of the book, believing that Puner's errors were the result of citing Carl Jung, Wilhelm Stekel, and Fritz Wittels.\n",
      "\n",
      "\n",
      "=== Mainstream media ===\n",
      "The poet Maurice English gave Freud: His Life and His Mind a negative review in The Nation, describing it as \"sloppily written\" and printed. English wrote that the book contained \"elementary mistakes in grammar\" and that Puner's claim that Freud's father was stern and aloof was contradicted by \"the examples she gives of his actual behavior toward his son.\"The critic Frederick Crews, writing in The New York Review of Books, described Walker's book as \"astute\". According to Crews, Anna Freud commissioned Jones to write The Life and Work of Sigmund Freud as a response to Puner's book.\n",
      "\n",
      "\n",
      "=== Evaluations in books ===\n",
      "Fromm, in his foreword to Freud: His Life and His Mind, commented that, \"although it was not written by a professional psychologist, it shows a sensitivity and grasp of Freud's personality and cultural function which is quite unusual.\" He welcomed the book's republication, crediting Puner with having provided \"a more analytical and realistic\" picture of Freud than previous authors and with recognizing both Freud's personal psychological problems and the pseudo-religious character of psychoanalysis. He wrote that Puner's book, \"will help greatly to disseminate a true and inspiring picture of the founder of psychoanalysis.\" The historian Peter Gay wrote in Freud: A Life for Our Time (1988) that Puner's biography is \"fairly hostile and neither very scholarly nor very reliable\", but that it was sufficiently influential for Ernest Jones to criticize it in The Life and Work of Sigmund Freud (1953).The psychologist Louis Breger called Freud: His Life and His Mind a perceptive work for its time, writing that Puner managed to construct a balanced account of Freud despite her ignorance of key facts, including the existence of Wilhelm Fliess. Breger considered Puner's version of Freud \"more human\" than those of Jones and Gay.\n",
      "\n",
      "\n",
      "== See also ==\n",
      "Freud family\n",
      "\n",
      "\n",
      "== References ==\n",
      "\n",
      "\n",
      "=== Bibliography ===\n",
      "Books\n",
      "Journals\n",
      "Online articles\n"
     ]
    }
   ],
   "source": [
    "print(data.text[0])"
   ]
  },
  {
   "cell_type": "markdown",
   "metadata": {},
   "source": [
    "### 2.2 EDA Analysis\n",
    "Next, we are going to do some EDA analysis of our data. \n",
    "#### Ariticle Length\n",
    " - The maximum length of wikipedia articles in our data is 190700.\n",
    " - The longest article is *The Britannia's Fist Trilogy*.\n",
    " - The minimum length of wikipedia articles in our data is 0."
   ]
  },
  {
   "cell_type": "code",
   "execution_count": 27,
   "metadata": {},
   "outputs": [
    {
     "name": "stdout",
     "output_type": "stream",
     "text": [
      "Maximum article text length is: 190700\n",
      "Minimum article text length is: 0\n"
     ]
    }
   ],
   "source": [
    "print('Maximum article text length is: {}'.format(max(data['length'])))\n",
    "print('Minimum article text length is: {}'.format(min(data['length'])))"
   ]
  },
  {
   "cell_type": "code",
   "execution_count": 50,
   "metadata": {},
   "outputs": [
    {
     "name": "stdout",
     "output_type": "stream",
     "text": [
      "The longest article is:  [\"The Britannia's Fist Trilogy\"]\n",
      "The shortest articles are:  ['File:Rules of play.jpg', 'Making Do', 'File:Stock Photo Strangers from the Sky bookcover.jpg']\n"
     ]
    }
   ],
   "source": [
    "print('The longest article is: ',list(data[data['length']==190700]['name']))\n",
    "print('The shortest articles are: ',list(data[data['length']==0]['name']))"
   ]
  },
  {
   "cell_type": "markdown",
   "metadata": {},
   "source": [
    "#### Article Distribution\n",
    "We use a bar chart to show the distribution of article length of our data. It is shown that the article length has a right skewed and long tail dirtrubtion, where most of books has a wikipedia article shorter than 25000. For later analysis, we may remove articles with length less than 100 because those articles are too short to provide meaningful insights."
   ]
  },
  {
   "cell_type": "code",
   "execution_count": 64,
   "metadata": {},
   "outputs": [
    {
     "data": {
      "text/plain": [
       "Text(0.5, 1.0, 'Article Length Distribution')"
      ]
     },
     "execution_count": 64,
     "metadata": {},
     "output_type": "execute_result"
    },
    {
     "data": {
      "image/png": "[encoded data removed]",
      "text/plain": [
       "<Figure size 1080x576 with 1 Axes>"
      ]
     },
     "metadata": {
      "needs_background": "light"
     },
     "output_type": "display_data"
    }
   ],
   "source": [
    "import matplotlib.pyplot as plt\n",
    "import seaborn as sns\n",
    "fig= plt.figure(figsize=(15,8)) \n",
    "sns.distplot(data.length,color='forestgreen',kde=False)\n",
    "plt.xlabel('Article Length')\n",
    "plt.title('Article Length Distribution')"
   ]
  },
  {
   "cell_type": "code",
   "execution_count": 15,
   "metadata": {},
   "outputs": [],
   "source": [
    "data = data[data.length>100]"
   ]
  },
  {
   "cell_type": "code",
   "execution_count": 16,
   "metadata": {},
   "outputs": [
    {
     "data": {
      "text/plain": [
       "(35991, 3)"
      ]
     },
     "execution_count": 16,
     "metadata": {},
     "output_type": "execute_result"
    }
   ],
   "source": [
    "data.shape"
   ]
  },
  {
   "cell_type": "markdown",
   "metadata": {},
   "source": [
    "### 2.3 Data Cleaning\n",
    "\n",
    "Data cleaning is a critical step for NLP models. Next, we will do two step data cleaning and reformat the dataset:\n",
    " - Book Name Cleaning\n",
    " - Article Cleaning\n",
    " - Reformat the dataset"
   ]
  },
  {
   "cell_type": "markdown",
   "metadata": {},
   "source": [
    "#### Book Name Cleaning\n",
    "Some of the book titles on wikipedia are appended with book itentifier such as *(book)*, *(novel)* etc. We will remove those extra content and only keep the original book name."
   ]
  },
  {
   "cell_type": "code",
   "execution_count": 589,
   "metadata": {},
   "outputs": [
    {
     "name": "stdout",
     "output_type": "stream",
     "text": [
      "Before Cleaning:\n",
      "Freud: His Life and His Mind\n",
      "Blackbox (novel)\n",
      "My Real Children\n",
      "The Alleys of Eden\n",
      "Day of the Dogs\n",
      "\n",
      "\n",
      "After Cleaning:\n",
      "Freud: His Life and His Mind\n",
      "Blackbox\n",
      "My Real Children\n",
      "The Alleys of Eden\n",
      "Day of the Dogs\n"
     ]
    }
   ],
   "source": [
    "print('Before Cleaning:')\n",
    "for i in data['name'][0:5]:\n",
    "    print(i)\n",
    "print('\\n')\n",
    "import re\n",
    "## book name cleaning\n",
    "data['cleaned_name'] = [re.sub(r'\\(.*?\\)', '', i).rstrip() for i in data.name]\n",
    "print('After Cleaning:')\n",
    "for i in data['cleaned_name'][0:5]:\n",
    "    print(i)"
   ]
  },
  {
   "cell_type": "markdown",
   "metadata": {},
   "source": [
    "#### Article Cleaning\n",
    "\n",
    "Next, we are going to clean the text data of articles on wikipedia. We print out the wikipedia content of *Freud: His Life and His Mind* as an example. After tokenize the text using *NLTK*, we mainly did text cleaning in following steps:\n",
    "\n",
    " - Removing Fillers \n",
    "      - We can see fillers such as *== Summary ==*, *== Reception ==* and *== Publication History ==* etc, which needed to be removed from the text.\n",
    " - Removing StopWords\n",
    "      - We use English stopwords in the library *NLTK* to remove the high frequency words in text.\n",
    " - Removing Punctuations\n",
    " - Removing Links\n",
    " - Removing Numbers"
   ]
  },
  {
   "cell_type": "code",
   "execution_count": 590,
   "metadata": {},
   "outputs": [
    {
     "name": "stdout",
     "output_type": "stream",
     "text": [
      "Freud: His Life and His Mind is a 1947 biography of Sigmund Freud, the founder of psychoanalysis, by Helen Walker Puner. The book was reprinted in 1959 with a new foreword by the psychoanalyst Erich Fromm. The work was praised by Fromm, but has also received criticism from scholars.\n",
      "\n",
      "\n",
      "== Summary ==\n",
      "Puner attempts to explain Freud's life and his accomplishments.\n",
      "\n",
      "\n",
      "== Publication history ==\n",
      "Freud: His Life and His Mind was first published in 1947 by Dell Publishing. It was reprinted in 1959 with a new foreword by the psychoanalyst Erich Fromm.\n",
      "\n",
      "\n",
      "== Reception ==\n",
      "\n",
      "\n",
      "=== Responses from Freud's family ===\n",
      "The psychoanalyst Anna Freud was outraged by Puner's work, describing it as \"horrible\" in a letter to Ernest Jones. Oliver Freud had a less negative view of the book, believing that Puner's errors were the result of citing Carl Jung, Wilhelm Stekel, and Fritz Wittels.\n",
      "\n",
      "\n",
      "=== Mainstream media ===\n",
      "The poet Maurice English gave Freud: His Life and His Mind a negative review in The Nation, describing it as \"sloppily written\" and printed. English wrote that the book contained \"elementary mistakes in grammar\" and that Puner's claim that Freud's father was stern and aloof was contradicted by \"the examples she gives of his actual behavior toward his son.\"The critic Frederick Crews, writing in The New York Review of Books, described Walker's book as \"astute\". According to Crews, Anna Freud commissioned Jones to write The Life and Work of Sigmund Freud as a response to Puner's book.\n",
      "\n",
      "\n",
      "=== Evaluations in books ===\n",
      "Fromm, in his foreword to Freud: His Life and His Mind, commented that, \"although it was not written by a professional psychologist, it shows a sensitivity and grasp of Freud's personality and cultural function which is quite unusual.\" He welcomed the book's republication, crediting Puner with having provided \"a more analytical and realistic\" picture of Freud than previous authors and with recognizing both Freud's personal psychological problems and the pseudo-religious character of psychoanalysis. He wrote that Puner's book, \"will help greatly to disseminate a true and inspiring picture of the founder of psychoanalysis.\" The historian Peter Gay wrote in Freud: A Life for Our Time (1988) that Puner's biography is \"fairly hostile and neither very scholarly nor very reliable\", but that it was sufficiently influential for Ernest Jones to criticize it in The Life and Work of Sigmund Freud (1953).The psychologist Louis Breger called Freud: His Life and His Mind a perceptive work for its time, writing that Puner managed to construct a balanced account of Freud despite her ignorance of key facts, including the existence of Wilhelm Fliess. Breger considered Puner's version of Freud \"more human\" than those of Jones and Gay.\n",
      "\n",
      "\n",
      "== See also ==\n",
      "Freud family\n",
      "\n",
      "\n",
      "== References ==\n",
      "\n",
      "\n",
      "=== Bibliography ===\n",
      "Books\n",
      "Journals\n",
      "Online articles\n"
     ]
    }
   ],
   "source": [
    "print(data.text[0])"
   ]
  },
  {
   "cell_type": "code",
   "execution_count": 10,
   "metadata": {},
   "outputs": [],
   "source": [
    "import re\n",
    "import collections\n",
    "filler = []\n",
    "for i in range(100):\n",
    "    filler+= re.findall('==(.*?)==',data.text[i])\n",
    "c = collections.Counter(filler)\n",
    "filler = [k.strip().lower() for k in c if c[k]>1]\n",
    "filler_word = []\n",
    "for f in filler:\n",
    "    filler_word+=f.split()\n",
    "filler_word = list(set(filler_word))"
   ]
  },
  {
   "cell_type": "code",
   "execution_count": 17,
   "metadata": {},
   "outputs": [],
   "source": [
    "import string\n",
    "import nltk\n",
    "from nltk.corpus import stopwords\n",
    "from nltk.stem import SnowballStemmer\n",
    "from nltk.tokenize import word_tokenize\n",
    "from nltk.util import ngrams\n",
    "def clean_text(text):\n",
    "    text = text.lower()\n",
    "    #add filler into stop words\n",
    "    stop_words = set(stopwords.words('english') + \n",
    "                     [\"'s\",'one','two','three','four','five','also','would','references','many','may',\n",
    "                     'book','books','first','later','published','new','story','stories','known','time']\n",
    "                    + filler_word)\n",
    "    punctuation = set(list(string.punctuation) + ['…', '...','’','``',\"''\",'–','“',\"n't\",'”','isbn'])\n",
    "    text = re.sub('#', '',text)\n",
    "    text = re.sub(r'[-\\.\\n]', '',text)\n",
    "    text = re.sub(r'&\\w+;','',text)\n",
    "    # Removing links\n",
    "    text = re.sub(r'https?://\\S*', '',text)\n",
    "    text = text.replace('[^\\w\\s]','')\n",
    "    word_tokens = word_tokenize(text)\n",
    "    filtered_text=[]\n",
    "    #looping through conditions\n",
    "    for w in word_tokens:\n",
    "    #check if w is punctuation or stop_word or numbers\n",
    "        if w not in punctuation and w not in stop_words and '=' not in w and not w.isnumeric():\n",
    "            filtered_text.append(w)\n",
    "    return ' '.join(filtered_text)"
   ]
  },
  {
   "cell_type": "code",
   "execution_count": 18,
   "metadata": {},
   "outputs": [],
   "source": [
    "data['cleaned_text'] = [clean_text(i) for i in data.text]"
   ]
  },
  {
   "cell_type": "markdown",
   "metadata": {},
   "source": [
    "After tokenizing and data cleaning, we want to further explore the distribution of article token sizes. And it shows that the token size distribution is very similar to article length. Most articles has a token size less than 2500."
   ]
  },
  {
   "cell_type": "code",
   "execution_count": 596,
   "metadata": {},
   "outputs": [],
   "source": [
    "data['token_size'] = [len(item.split()) for item in data.cleaned_text]"
   ]
  },
  {
   "cell_type": "code",
   "execution_count": 598,
   "metadata": {},
   "outputs": [
    {
     "data": {
      "text/plain": [
       "Text(0.5, 1.0, 'Article Token Size Distribution')"
      ]
     },
     "execution_count": 598,
     "metadata": {},
     "output_type": "execute_result"
    },
    {
     "data": {
      "image/png": "[encoded data removed]",
      "text/plain": [
       "<Figure size 1080x576 with 1 Axes>"
      ]
     },
     "metadata": {
      "needs_background": "light"
     },
     "output_type": "display_data"
    }
   ],
   "source": [
    "fig= plt.figure(figsize=(15,8)) \n",
    "sns.distplot(data.token_size,color='skyblue',kde=False)\n",
    "plt.xlabel('Article Token Size')\n",
    "plt.title('Article Token Size Distribution')"
   ]
  },
  {
   "cell_type": "markdown",
   "metadata": {},
   "source": [
    "Also, we print out the ten words with top frequences and generate a bar chart to show the frequency."
   ]
  },
  {
   "cell_type": "code",
   "execution_count": 367,
   "metadata": {},
   "outputs": [],
   "source": [
    "word_list = []\n",
    "for i in data.cleaned_text:\n",
    "    word_list += i.split()\n",
    "text_word_frequency = collections.Counter(word_list)"
   ]
  },
  {
   "cell_type": "code",
   "execution_count": 599,
   "metadata": {},
   "outputs": [],
   "source": [
    "common10 = text_word_frequency.most_common()[:10]"
   ]
  },
  {
   "cell_type": "code",
   "execution_count": 600,
   "metadata": {},
   "outputs": [
    {
     "name": "stdout",
     "output_type": "stream",
     "text": [
      "[('novel', 76898), ('world', 36001), ('life', 35157), ('series', 32314), ('work', 29019), ('years', 27636), ('people', 27584), ('man', 27271), ('american', 26401), ('war', 26292)]\n"
     ]
    }
   ],
   "source": [
    "print(common10)"
   ]
  },
  {
   "cell_type": "code",
   "execution_count": 604,
   "metadata": {},
   "outputs": [
    {
     "data": {
      "text/plain": [
       "Text(0.5, 1.0, 'Top 10 Words Frequency')"
      ]
     },
     "execution_count": 604,
     "metadata": {},
     "output_type": "execute_result"
    },
    {
     "data": {
      "image/png": "[encoded data removed]",
      "text/plain": [
       "<Figure size 1008x504 with 1 Axes>"
      ]
     },
     "metadata": {
      "needs_background": "light"
     },
     "output_type": "display_data"
    }
   ],
   "source": [
    "fig= plt.figure(figsize=(14,7))\n",
    "sns.barplot(x=[i[0] for i in common10], y=[i[1] for i in common10])\n",
    "plt.title('Top 10 Words Frequency')"
   ]
  },
  {
   "cell_type": "markdown",
   "metadata": {},
   "source": [
    "## 3 Modeling\n",
    "\n",
    "In the modeling part, we will use *Latent Dirichlet Allocation* model for articles' topic modeling. Basically we will do it in following steps:\n",
    " - Constructing LDA model with *Gensim*.\n",
    " - Determining the number of topics with diffrent Measures\n",
    " - Illustrating topics with top weights words of each topic\n",
    " - Model Evaluation\n",
    " - Examples of applying the model"
   ]
  },
  {
   "cell_type": "markdown",
   "metadata": {},
   "source": [
    "### 3.1 LDA Model Construction\n",
    "\n",
    "Here we use the library *gensim* for LDA modeling. There are 698015 unique tokens in 35991 articles."
   ]
  },
  {
   "cell_type": "code",
   "execution_count": 19,
   "metadata": {},
   "outputs": [],
   "source": [
    "import gensim\n",
    "from gensim import corpora, models, similarities\n",
    "articles = [i.split() for i in data.cleaned_text]"
   ]
  },
  {
   "cell_type": "code",
   "execution_count": 20,
   "metadata": {},
   "outputs": [
    {
     "name": "stdout",
     "output_type": "stream",
     "text": [
      "CPU times: user 31.5 s, sys: 1.31 s, total: 32.8 s\n",
      "Wall time: 33.4 s\n"
     ]
    }
   ],
   "source": [
    "%%time\n",
    "dic = corpora.Dictionary(articles)"
   ]
  },
  {
   "cell_type": "code",
   "execution_count": 618,
   "metadata": {},
   "outputs": [
    {
     "data": {
      "text/plain": [
       "[(0, 'according'),\n",
       " (1, 'account'),\n",
       " (2, 'actual'),\n",
       " (3, 'aloof'),\n",
       " (4, 'although'),\n",
       " (5, 'analytical'),\n",
       " (6, 'anna'),\n",
       " (7, 'articles'),\n",
       " (8, 'astute'),\n",
       " (9, 'attempts'),\n",
       " (10, 'authors'),\n",
       " (11, 'balanced'),\n",
       " (12, 'behavior'),\n",
       " (13, 'believing'),\n",
       " (14, 'biography'),\n",
       " (15, 'breger'),\n",
       " (16, 'called'),\n",
       " (17, 'carl'),\n",
       " (18, 'character'),\n",
       " (19, 'citing')]"
      ]
     },
     "execution_count": 618,
     "metadata": {},
     "output_type": "execute_result"
    }
   ],
   "source": [
    "from itertools import islice\n",
    "list(islice(dic.iteritems(),20))"
   ]
  },
  {
   "cell_type": "code",
   "execution_count": 373,
   "metadata": {},
   "outputs": [
    {
     "name": "stdout",
     "output_type": "stream",
     "text": [
      "CPU times: user 43.3 s, sys: 1min 49s, total: 2min 32s\n",
      "Wall time: 10min 10s\n"
     ]
    }
   ],
   "source": [
    "%%time\n",
    "bow_corpus = [dic.doc2bow(text) for text in articles]"
   ]
  },
  {
   "cell_type": "code",
   "execution_count": 374,
   "metadata": {},
   "outputs": [
    {
     "name": "stdout",
     "output_type": "stream",
     "text": [
      "Number of unique tokens: 698015\n",
      "Number of articles: 35991\n"
     ]
    }
   ],
   "source": [
    "print('Number of unique tokens: %d' % len(dic)) \n",
    "print('Number of articles: %d' % len(bow_corpus)) "
   ]
  },
  {
   "cell_type": "code",
   "execution_count": 375,
   "metadata": {},
   "outputs": [
    {
     "name": "stdout",
     "output_type": "stream",
     "text": [
      "[(0, 1), (1, 1), (2, 1), (3, 1), (4, 1), (5, 1), (6, 2), (7, 1), (8, 1), (9, 1), (10, 1), (11, 1), (12, 1), (13, 1), (14, 2), (15, 2), (16, 1), (17, 1), (18, 1), (19, 1), (20, 1), (21, 1), (22, 1), (23, 1), (24, 1), (25, 1), (26, 1), (27, 1), (28, 2), (29, 1), (30, 1), (31, 1), (32, 1), (33, 1), (34, 1), (35, 2), (36, 1), (37, 1), (38, 1), (39, 2), (40, 2), (41, 2), (42, 1), (43, 1), (44, 1), (45, 1), (46, 1), (47, 1), (48, 1), (49, 1), (50, 1), (51, 1), (52, 3), (53, 2), (54, 1), (55, 19), (56, 1), (57, 2), (58, 1), (59, 1), (60, 1), (61, 1), (62, 1), (63, 1), (64, 1), (65, 1), (66, 1), (67, 1), (68, 1), (69, 1), (70, 1), (71, 1), (72, 1), (73, 1), (74, 1), (75, 4), (76, 1), (77, 1), (78, 1), (79, 1), (80, 9), (81, 1), (82, 1), (83, 1), (84, 1), (85, 1), (86, 5), (87, 1), (88, 1), (89, 2), (90, 1), (91, 1), (92, 1), (93, 1), (94, 1), (95, 1), (96, 1), (97, 2), (98, 1), (99, 1), (100, 1), (101, 1), (102, 1), (103, 1), (104, 1), (105, 1), (106, 3), (107, 3), (108, 1), (109, 2), (110, 1), (111, 10), (112, 1), (113, 1), (114, 1), (115, 1), (116, 1), (117, 2), (118, 1), (119, 1), (120, 1), (121, 1), (122, 2), (123, 1), (124, 1), (125, 1), (126, 3), (127, 1), (128, 1), (129, 1), (130, 1), (131, 1), (132, 1), (133, 1), (134, 1), (135, 1), (136, 1), (137, 2), (138, 1), (139, 2), (140, 5), (141, 1), (142, 2), (143, 2), (144, 3), (145, 1)]\n"
     ]
    }
   ],
   "source": [
    "print(bow_corpus[0])"
   ]
  },
  {
   "cell_type": "markdown",
   "metadata": {},
   "source": [
    "### 3.2 Determining Best Number of Topics\n",
    "To determining the best number of topics, we tried different number (5,10,15,20,25,30) of topics for LDA modeling. \n",
    "\n",
    "#### Topic Coherence: Intrinsic Measure\n",
    "\n",
    "Topic Coherence is a very important intrinsic measure for topic models. In this part, we will use *c_v* as our  primary topic coherence measure.\n",
    "\n",
    "*Note: c_v is based on a sliding window, a one-set segmentation of the top words and an indirect confirmation measure that uses normalized pointwise mutual information (NPMI) and the cosinus similarity.*\n",
    "\n",
    "After trying 5,10,15,20,25,30 as our number of topics, it is shown that *number of topics=20* can generate best *c_v* of 0.54. So we will choose 20 as our best number of topics."
   ]
  },
  {
   "cell_type": "code",
   "execution_count": 5,
   "metadata": {},
   "outputs": [],
   "source": [
    "import os\n",
    "import random\n",
    "nums = [5,10,15,20,25,30]\n",
    "folder = '/Users/zmt/Desktop/Book_Recommender'\n",
    "ldamodels = {}\n",
    "for i in nums:\n",
    "    random.seed(42)\n",
    "    if not os.path.exists(folder+'/model/lda_'+str(i)+'.lda'):\n",
    "        %time ldamodels[i] = models.LdaModel(bow_corpus, num_topics=i, random_state=42, update_every=1, passes=10, id2word=dic)\n",
    "        ldamodels[i].save(folder+'/model/lda_'+str(i)+'.lda')\n",
    "        print('lda_{}.lda created.'.format(i))\n",
    "    else: \n",
    "        print('lda_{}.lda already exists.'.format(i))"
   ]
  },
  {
   "cell_type": "code",
   "execution_count": 3,
   "metadata": {},
   "outputs": [],
   "source": [
    "from gensim.models.coherencemodel import CoherenceModel\n",
    "coherence_lda = [0]*len(nums)\n",
    "for i in range(len(nums)):\n",
    "    lda_model = models.LdaModel.load(project_folder+'/model/lda_'+str(nums[i])+'.lda')\n",
    "    coherence_model_lda = CoherenceModel(model=lda_model, texts=articles, dictionary=dic, coherence=\"c_v\")\n",
    "    coherence_lda[i] = coherence_model_lda.get_coherence()\n",
    "    print('Number of Topics = ',nums[i],'Coherence Score: ', coherence_lda[i])"
   ]
  },
  {
   "cell_type": "code",
   "execution_count": 378,
   "metadata": {},
   "outputs": [
    {
     "data": {
      "text/plain": [
       "[Text(0, 0.5, 'Coherence Score'), Text(0.5, 0, 'Number of Topics')]"
      ]
     },
     "execution_count": 378,
     "metadata": {},
     "output_type": "execute_result"
    },
    {
     "data": {
      "image/png": "[encoded data removed]",
      "text/plain": [
       "<Figure size 432x288 with 1 Axes>"
      ]
     },
     "metadata": {
      "needs_background": "light"
     },
     "output_type": "display_data"
    }
   ],
   "source": [
    "ax = sns.lineplot(x=nums, y=coherence_lda)\n",
    "ax.set(xlabel = 'Number of Topics',ylabel = 'Coherence Score')"
   ]
  },
  {
   "cell_type": "markdown",
   "metadata": {},
   "source": [
    "### 3.3 Illustrating topics with top weights words of each topic\n",
    "\n",
    "We use top 10 words with corresponding weights of them to illustrate each topic."
   ]
  },
  {
   "cell_type": "code",
   "execution_count": null,
   "metadata": {},
   "outputs": [],
   "source": [
    "num_topics = 20\n",
    "lda_model= models.LdaModel.load(folder+'/model/lda_'+str(num_topics)+'.lda')"
   ]
  },
  {
   "cell_type": "code",
   "execution_count": 390,
   "metadata": {},
   "outputs": [],
   "source": [
    "import pprint\n",
    "topics = lda_model.top_topics(bow_corpus, topn=10)"
   ]
  },
  {
   "cell_type": "code",
   "execution_count": 391,
   "metadata": {},
   "outputs": [
    {
     "name": "stdout",
     "output_type": "stream",
     "text": [
      "Topic 0\n",
      "([(0.01576554, 'novel'),\n",
      "  (0.005367167, 'life'),\n",
      "  (0.005123265, 'father'),\n",
      "  (0.0048534125, 'family'),\n",
      "  (0.0044982275, 'man'),\n",
      "  (0.0043142657, 'mother'),\n",
      "  (0.0040259114, 'love'),\n",
      "  (0.003997076, 'young'),\n",
      "  (0.0031627, 'years'),\n",
      "  (0.003041666, 'woman')],\n",
      " -0.9287945373768874)\n",
      "\n",
      "\n",
      "Topic 1\n",
      "([(0.005636315, 'school'),\n",
      "  (0.004684521, 'house'),\n",
      "  (0.0036707465, \"n't\"),\n",
      "  (0.0034238636, 'day'),\n",
      "  (0.0030271763, 'american'),\n",
      "  (0.0030062539, 'back'),\n",
      "  (0.002738913, 'black'),\n",
      "  (0.0026385006, 'man'),\n",
      "  (0.0026267592, 'home'),\n",
      "  (0.0025604018, 'get')],\n",
      " -0.9765894341380349)\n",
      "\n",
      "\n",
      "Topic 2\n",
      "([(0.0063499664, 'war'),\n",
      "  (0.005942962, 'states'),\n",
      "  (0.005394739, 'united'),\n",
      "  (0.0048523047, 'american'),\n",
      "  (0.0047672084, 'government'),\n",
      "  (0.004283751, 'political'),\n",
      "  (0.004066223, 'people'),\n",
      "  (0.004019881, 'world'),\n",
      "  (0.0040071313, 'us'),\n",
      "  (0.0037993512, 'state')],\n",
      " -1.0016657858036568)\n",
      "\n",
      "\n",
      "Topic 3\n",
      "([(0.005365561, 'work'),\n",
      "  (0.004895533, 'human'),\n",
      "  (0.0041527175, '“'),\n",
      "  (0.0040725693, '”'),\n",
      "  (0.003976866, 'social'),\n",
      "  (0.0033914095, 'life'),\n",
      "  (0.0032529987, 'people'),\n",
      "  (0.0032068877, 'theory'),\n",
      "  (0.0030946028, 'society'),\n",
      "  (0.0030868102, 'review')],\n",
      " -1.2092779730179026)\n",
      "\n",
      "\n",
      "Topic 4\n",
      "([(0.009846607, 'novel'),\n",
      "  (0.008770875, 'english'),\n",
      "  (0.008330953, 'german'),\n",
      "  (0.0072951238, 'edition'),\n",
      "  (0.0066370084, 'work'),\n",
      "  (0.0057772277, 'written'),\n",
      "  (0.0056237467, 'author'),\n",
      "  (0.00561956, 'isbn'),\n",
      "  (0.0049938457, 'war'),\n",
      "  (0.004867743, 'translation')],\n",
      " -1.3268352804167174)\n",
      "\n",
      "\n",
      "Topic 5\n",
      "([(0.005113678, 'find'),\n",
      "  (0.0048109037, 'ship'),\n",
      "  (0.004408453, 'series'),\n",
      "  (0.0040153083, 'magic'),\n",
      "  (0.0038985724, 'back'),\n",
      "  (0.0038490782, 'city'),\n",
      "  (0.00363978, 'help'),\n",
      "  (0.0035919866, 'king'),\n",
      "  (0.003544202, 'kill'),\n",
      "  (0.003430635, 'escape')],\n",
      " -1.3364881499012013)\n",
      "\n",
      "\n",
      "Topic 6\n",
      "([(0.02381383, 'album'),\n",
      "  (0.02232276, 'song'),\n",
      "  (0.019527238, 'music'),\n",
      "  (0.01612504, 'band'),\n",
      "  (0.009001544, 'songs'),\n",
      "  (0.007308319, 'rock'),\n",
      "  (0.006150404, 'single'),\n",
      "  (0.0056661833, 'released'),\n",
      "  (0.004685584, 'tour'),\n",
      "  (0.004665729, 'track')],\n",
      " -1.346668171518706)\n",
      "\n",
      "\n",
      "Topic 7\n",
      "([(0.026145473, 'fiction'),\n",
      "  (0.019693011, 'science'),\n",
      "  (0.012122976, 'isbn'),\n",
      "  (0.011823243, 'best'),\n",
      "  (0.011000305, 'edition'),\n",
      "  (0.010591958, 'short'),\n",
      "  (0.009808818, 'novel'),\n",
      "  (0.009573834, 'collection'),\n",
      "  (0.0074863415, 'fantasy'),\n",
      "  (0.0068201767, 'award')],\n",
      " -1.3488412324094934)\n",
      "\n",
      "\n",
      "Topic 8\n",
      "([(0.0073893806, 'series'),\n",
      "  (0.006767908, 'released'),\n",
      "  (0.0041853026, 'said'),\n",
      "  (0.004002956, 'york'),\n",
      "  (0.0039803362, 'show'),\n",
      "  (0.0039434116, 'best'),\n",
      "  (0.0039394004, 'times'),\n",
      "  (0.0035306395, 'release'),\n",
      "  (0.0034915165, 'television'),\n",
      "  (0.0032350922, 'million')],\n",
      " -1.354545792147433)\n",
      "\n",
      "\n",
      "Topic 9\n",
      "([(0.020074083, 'doctor'),\n",
      "  (0.012198295, 'game'),\n",
      "  (0.010768051, 'star'),\n",
      "  (0.0095162615, 'series'),\n",
      "  (0.0062213293, 'wars'),\n",
      "  (0.0053992514, 'trek'),\n",
      "  (0.0045587067, 'original'),\n",
      "  (0.0040147207, 'set'),\n",
      "  (0.0039812676, 'character'),\n",
      "  (0.0037401107, 'planet')],\n",
      " -1.5802726610134836)\n",
      "\n",
      "\n",
      "Topic 10\n",
      "([(0.0127897775, 'chinese'),\n",
      "  (0.009870094, 'war'),\n",
      "  (0.008228853, 'china'),\n",
      "  (0.0076560946, 'japanese'),\n",
      "  (0.0071146567, 'battle'),\n",
      "  (0.0071136774, 'army'),\n",
      "  (0.006827084, 'military'),\n",
      "  (0.0056022014, 'force'),\n",
      "  (0.005321479, 'navy'),\n",
      "  (0.004628924, 'british')],\n",
      " -1.6167366938750607)\n",
      "\n",
      "\n",
      "Topic 11\n",
      "([(0.010588641, 'murder'),\n",
      "  (0.009538329, 'crime'),\n",
      "  (0.007945859, 'police'),\n",
      "  (0.0069535687, 'case'),\n",
      "  (0.0069308872, 'detective'),\n",
      "  (0.0066706785, 'series'),\n",
      "  (0.006542539, 'novel'),\n",
      "  (0.0061744875, 'mystery'),\n",
      "  (0.004779318, 'poirot'),\n",
      "  (0.0047348, 'london')],\n",
      " -1.6728042431050147)\n",
      "\n",
      "\n",
      "Topic 12\n",
      "([(0.028489279, 'de'),\n",
      "  (0.026721587, 'french'),\n",
      "  (0.015941035, 'la'),\n",
      "  (0.012903537, 'le'),\n",
      "  (0.009407626, 'paris'),\n",
      "  (0.0063466444, 'france'),\n",
      "  (0.005352432, 'du'),\n",
      "  (0.0051889364, 'et'),\n",
      "  (0.005003026, 'des'),\n",
      "  (0.0044081034, 'les')],\n",
      " -1.7275716823831095)\n",
      "\n",
      "\n",
      "Topic 13\n",
      "([(0.008497217, 'earth'),\n",
      "  (0.0060779, 'space'),\n",
      "  (0.0050990065, 'system'),\n",
      "  (0.0048392536, 'energy'),\n",
      "  (0.0047502187, 'used'),\n",
      "  (0.0033760807, 'computer'),\n",
      "  (0.0032503258, 'technology'),\n",
      "  (0.0032431067, 'mars'),\n",
      "  (0.0032420477, 'use'),\n",
      "  (0.003194596, 'sun')],\n",
      " -1.7282995713970315)\n",
      "\n",
      "\n",
      "Topic 14\n",
      "([(0.015597629, 'god'),\n",
      "  (0.010275538, 'church'),\n",
      "  (0.006196909, 'religious'),\n",
      "  (0.0057993527, 'jesus'),\n",
      "  (0.005760104, 'christian'),\n",
      "  (0.0049101543, 'religion'),\n",
      "  (0.0035698696, 'english'),\n",
      "  (0.0033684848, 'dictionary'),\n",
      "  (0.0032642044, 'christ'),\n",
      "  (0.003217667, 'catholic')],\n",
      " -1.7703610637266327)\n",
      "\n",
      "\n",
      "Topic 15\n",
      "([(0.0077391164, 'russian'),\n",
      "  (0.0073286504, 'islamic'),\n",
      "  (0.0063367356, 'ali'),\n",
      "  (0.006199859, 'muslim'),\n",
      "  (0.0058618924, 'islam'),\n",
      "  (0.0051998114, 'muhammad'),\n",
      "  (0.004599582, 'pakistan'),\n",
      "  (0.0044075986, 'arabic'),\n",
      "  (0.0040549207, 'ibn'),\n",
      "  (0.00362708, 'persian')],\n",
      " -1.994175738295556)\n",
      "\n",
      "\n",
      "Topic 16\n",
      "([(0.005837869, 'species'),\n",
      "  (0.004358283, 'used'),\n",
      "  (0.003498851, 'water'),\n",
      "  (0.003018818, 'found'),\n",
      "  (0.0028737653, 'sea'),\n",
      "  (0.0028390633, 'island'),\n",
      "  (0.0027002979, 'use'),\n",
      "  (0.0026883916, 'large'),\n",
      "  (0.0026230456, 'years'),\n",
      "  (0.0024898932, 'scientology')],\n",
      " -2.0535358803412938)\n",
      "\n",
      "\n",
      "Topic 17\n",
      "([(0.011016667, 'king'),\n",
      "  (0.0056340797, 'ancient'),\n",
      "  (0.0055733393, 'sharpe'),\n",
      "  (0.0048788027, 'tolkien'),\n",
      "  (0.0033948575, 'roman'),\n",
      "  (0.003363119, 'century'),\n",
      "  (0.0031030367, 'great'),\n",
      "  (0.002824838, 'greek'),\n",
      "  (0.0026581509, 'battle'),\n",
      "  (0.0026162455, 'age')],\n",
      " -2.201619278692519)\n",
      "\n",
      "\n",
      "Topic 18\n",
      "([(0.01775307, 'children'),\n",
      "  (0.007474038, 'mr'),\n",
      "  (0.006919646, 'little'),\n",
      "  (0.005941193, 'harry'),\n",
      "  (0.005834063, 'series'),\n",
      "  (0.0053250347, 'potter'),\n",
      "  (0.0047438764, 'tale'),\n",
      "  (0.004369179, 'alice'),\n",
      "  (0.004330893, 'illustrated'),\n",
      "  (0.0043036663, 'illustrations')],\n",
      " -2.2464552432112543)\n",
      "\n",
      "\n",
      "Topic 19\n",
      "([(0.012906002, 'de'),\n",
      "  (0.012051799, 'india'),\n",
      "  (0.009998204, 'indian'),\n",
      "  (0.0076511763, 'spanish'),\n",
      "  (0.004888315, 'la'),\n",
      "  (0.0048310654, 'angelou'),\n",
      "  (0.0043832306, 'el'),\n",
      "  (0.0038009607, 'del'),\n",
      "  (0.0037152234, 'mexico'),\n",
      "  (0.0036810117, 'mexican')],\n",
      " -4.51069722949092)\n",
      "\n",
      "\n"
     ]
    }
   ],
   "source": [
    "from pprint import pprint\n",
    "for i in range(num_topics):\n",
    "    print('Topic',i)\n",
    "    pprint(topics[i])\n",
    "    print('\\n')"
   ]
  },
  {
   "cell_type": "markdown",
   "metadata": {},
   "source": [
    "### 3.4 Model Evaluation\n",
    "\n",
    "In this part, we will use both intrinsic measure and extrinsic measure for evaluating the model.\n",
    "\n",
    "#### Intrinsic Measures\n",
    "As we have mentioned in 3.3, coherence score is the most important intrinsic measure for topic models. Apart from *c_v* we used in 3.3, there are also other intrinsic coherence measures such as *u_mass*.\n",
    "\n",
    "For our topic model, we get quite good c_v and u_mass:\n",
    " - c_v = 0.54\n",
    " - u_mass = -6.44"
   ]
  },
  {
   "cell_type": "code",
   "execution_count": 630,
   "metadata": {},
   "outputs": [
    {
     "data": {
      "text/plain": [
       "0.5375607052056606"
      ]
     },
     "execution_count": 630,
     "metadata": {},
     "output_type": "execute_result"
    }
   ],
   "source": [
    "coherence_model_lda = CoherenceModel(model=lda_model, texts=articles, dictionary=dic, coherence=\"c_v\")\n",
    "coherence_model_lda.get_coherence()"
   ]
  },
  {
   "cell_type": "code",
   "execution_count": 21,
   "metadata": {},
   "outputs": [
    {
     "data": {
      "text/plain": [
       "-6.438169709856728"
      ]
     },
     "execution_count": 21,
     "metadata": {},
     "output_type": "execute_result"
    }
   ],
   "source": [
    "coherence_model_lda = CoherenceModel(model=lda_model, texts=articles, dictionary=dic, coherence=\"u_mass\")\n",
    "coherence_model_lda.get_coherence()"
   ]
  },
  {
   "cell_type": "markdown",
   "metadata": {},
   "source": [
    "#### Extrinsic Measures\n",
    "The UCI measure uses pairwise score function the Pointwise Mutual Information (PMI) for measuring topic coherence. It is an important extrinsic measure for topic model.\n",
    " - UCI = -4.05"
   ]
  },
  {
   "cell_type": "code",
   "execution_count": 23,
   "metadata": {},
   "outputs": [
    {
     "data": {
      "text/plain": [
       "-4.0455211738008146"
      ]
     },
     "execution_count": 23,
     "metadata": {},
     "output_type": "execute_result"
    }
   ],
   "source": [
    "coherence_model_lda = CoherenceModel(model=lda_model, texts=articles, dictionary=dic, coherence=\"c_uci\")\n",
    "coherence_model_lda.get_coherence()"
   ]
  },
  {
   "cell_type": "markdown",
   "metadata": {},
   "source": [
    "### 3.5 Examples of applying the model\n",
    "\n",
    "In this part, we use two example books to illustrate the result of topic model.\n",
    "\n",
    " - For the novel *My Real Children*, the model cluster it into topic 18, with top words *children*, *little* and *tale*.\n",
    " - For the book *God in Search of Man* with religious theme, the model cluster it into topic 15, with top words *muslim*, *islam* and *muhammad*."
   ]
  },
  {
   "cell_type": "code",
   "execution_count": 628,
   "metadata": {},
   "outputs": [
    {
     "name": "stdout",
     "output_type": "stream",
     "text": [
      "Book Name:  My Real Children \n",
      "\n",
      "My Real Children is a 2014 alternate history novel by Welsh-Canadian writer Jo Walton, published by Tor Books. It was released on May 20, 2014.\n",
      "\n",
      "\n",
      "== Plot ==\n",
      "In 2015, Patricia is 89 years old and living in a nursing home, with two mutually-exclusive sets of memories: one of a world where John F. Kennedy was killed by a bomb in 1963, and one of a world where Kennedy chose not to run in 1964 after an escalated Cuban Missile Crisis led to the nuclear obliteration of Miami and Kiev—and, on a more personal level, one in which she went by \"Trish\", married a man and had four children before she was able to escape an unhappy marriage and become involved in politics, and one in which, as \"Pat\", she was a successful travel writer raising three children with her lesbian partner. Both feel completely real, but both cannot be... even though both sets of children visit her.\n",
      "\n",
      "\n",
      "== Patricia's two worlds ==\n",
      "In the Kennedy assassination timeline, there is accelerated nuclear disarmament, however. The Soviet Union liberalizes sooner and does not intervene in Hungary or Czechoslovakia when they withdraw from the Warsaw Pact peacefully. The USSR lands the first humans on the Moon in 1967 and as a result, the United States struggles to catch up in the space race in terms of construction of a space station and later, a moonbase of its own. In the Cuban War timeline, Pat, her lesbian partner Bee and their children watch aghast as Miami, Kiev, Delhi, Tel Aviv, and several unspecified Chinese cities are subjected to nuclear attacks over a fifty-year interval. The incineration of Miami turns the United States isolationist and they do not become actively involved in the Vietnam War. The European Union becomes consolidated more rapidly than in our own world, but the British and other European powers do not pursue decolonization as it does within our universe. Pat encounters a devastating disease, anaplastic thyroid cancer, which kills several of her relatives as well as Bee in that universe. Trish finds a useful and constructive role in the lives of her children and grandchildren after her divorce from her obnoxious closeted gay husband Mark in the Kennedy assassination timeline, but although Pat finds herself in an idyllic relationship with Bee, despite the challenges of her lover's disablement after an IRA bombing campaign, and they raise several children, the surrounding world is darker than our own, given its intensive nuclear proliferation and the breaching of our world's taboo against the use of nuclear weapons during wartime.\n",
      "\n",
      "\n",
      "== Reception ==\n",
      "Lev Grossman stated that My Real Children is a \"quiet triumph\", and compared it to the works of Alice Munro, and to Philip K. Dick's Man in the High Castle, while Robert Wiersema described it as having \"achingly beautiful prose and carefully crafted characters\". Cory Doctorow said that it was a \"standout\" even when compared to Walton's other works, and that it \"literally kept [him] up all night, weeping uncontrollably with the most astounding mixture of joy and sorrow\", while at NPR, Amal El-Mohtar said that to call the book \"elegant\" was not enough.The novel was nominated for the World Fantasy Award for Best Novel and the Aurora Award for Best Novel. It won the Tiptree Award.\n",
      "\n",
      "\n",
      "== References ==\n",
      "LDA Results: [(18, 0.46796155), (16, 0.22388913), (2, 0.10248201), (1, 0.07837985), (6, 0.072387055), (10, 0.039430127)] \n",
      "\n",
      "Topic: \n",
      "(0.01775307, 'children')\n",
      "(0.007474038, 'mr')\n",
      "(0.006919646, 'little')\n",
      "(0.005941193, 'harry')\n",
      "(0.005834063, 'series')\n",
      "(0.0053250347, 'potter')\n",
      "(0.0047438764, 'tale')\n",
      "(0.004369179, 'alice')\n",
      "(0.004330893, 'illustrated')\n",
      "(0.0043036663, 'illustrations')\n"
     ]
    }
   ],
   "source": [
    "print('Book Name: ',data.name[2],'\\n')\n",
    "print(data.text[2])\n",
    "res = sorted(lda_model[bow_corpus][2],key=lambda x:-x[1])\n",
    "print('LDA Results:', res,'\\n')\n",
    "print('Topic: ')\n",
    "for item in topics[res[0][0]][0]:\n",
    "    print(item)"
   ]
  },
  {
   "cell_type": "code",
   "execution_count": 565,
   "metadata": {},
   "outputs": [
    {
     "name": "stdout",
     "output_type": "stream",
     "text": [
      "Book Name:  God in Search of Man \n",
      "\n",
      "God in Search of Man: A Philosophy of Judaism is a work on Jewish philosophy by Rabbi Dr. Abraham Joshua Heschel. Heschel saw the work's title as a paradoxical formula, rooted in the rabbinic tradition, summarizing human history as seen in the Bible: God in search of man.In God in Search of Man Heschel articulates a belief in a personal God who sees humankind as partners in creation, forging a world filled with justice and compassion.God in Search of Man: A Philosophy of Judaism is a companion volume to Heschel's earlier work Man Is Not Alone: A Philosophy of Religion where he delineates experiential and philosophical interpretations of Jewish views of humanity and the world, while in God in Search of Man Heschel focuses particularly on Jewish revelation and orthopraxis.\n",
      "\n",
      "\n",
      "== Contents ==\n",
      "In God in Search of Man, Heschel discusses the nature of religious thought, how thought becomes faith, and how faith creates responses in the believer. He discusses ways that people can seek God's presence, and the \"radical amazement\" that we receive in return. He offers a criticism of nature worship; a study of humanity's metaphysical loneliness, and his view that we can consider God to be in search of humanity.\n",
      "Heschel, like his teacher Martin Buber, stresses the personal relationship between God and mankind, defined by Heschel as the Godly pathos and mankind's radical amazement.\n",
      "\n",
      "\n",
      "=== Main topics ===\n",
      "The first section concludes with a study of Jews as a chosen people. Section two deals with the idea of revelation, and what it means for one to be a prophet. This section gives us Heschel's idea of revelation as an event, as opposed to a process. This relates to Israel's commitment to God. Section three discusses his views of how a Jew should understand the nature of Judaism as a religion.\n",
      "\n",
      "\n",
      "=== Faith and law ===\n",
      "Heschel discusses and rejects the idea that mere faith (without law) alone is enough, but then cautions against rabbis he sees as adding too many restrictions to Jewish law. He discusses the need to correlate ritual observance with spirituality and love, the importance of Kavanah (intention) when performing mitzvot. He engages in a discussion of religious behaviorism—when people strive for external compliance with the law, yet disregard the importance of inner devotion.\n",
      "\n",
      "\n",
      "== See also ==\n",
      "Abraham Joshua Heschel\n",
      "Jewish philosophy\n",
      "\n",
      "\n",
      "== References ==\n",
      "LDA Results: [(15, 0.47867122), (12, 0.4605217), (18, 0.05668085)] \n",
      "\n",
      "Topic: \n",
      "(0.0077391164, 'russian')\n",
      "(0.0073286504, 'islamic')\n",
      "(0.0063367356, 'ali')\n",
      "(0.006199859, 'muslim')\n",
      "(0.0058618924, 'islam')\n",
      "(0.0051998114, 'muhammad')\n",
      "(0.004599582, 'pakistan')\n",
      "(0.0044075986, 'arabic')\n",
      "(0.0040549207, 'ibn')\n",
      "(0.00362708, 'persian')\n"
     ]
    }
   ],
   "source": [
    "print('Book Name: ',data.name[87],'\\n')\n",
    "print(data.text[87])\n",
    "res = sorted(lda_model[bow_corpus][87],key=lambda x:-x[1])\n",
    "print('LDA Results:', res,'\\n')\n",
    "print('Topic: ')\n",
    "for item in topics[res[0][0]][0]:\n",
    "    print(item)"
   ]
  },
  {
   "cell_type": "markdown",
   "metadata": {},
   "source": [
    "## 4 The Recommender Engine\n",
    "\n",
    "In this part, we will build a recommender engine based on the LDA model. We will use Pearson Correlation as a similarity measure for diffrent documents. And for each input book, we will generate 10 most similar books based on the similarity as our recommendation. \n",
    "\n",
    "We try to generate recommendations for two books:\n",
    " - For *Harry Potter and the Deathly Hallows*, the recommender generates top 2 recommendations as *Harry Potter and the Cursed Child* and *Harry Potter and the Half-Blood Prince*.\n",
    " - For *God in Search of Man*, the recommender generates top 2 recommendations as *A Dissertation Concerning the End for Which God Created the World* and *A New Christianity for a New World*.\n",
    " \n",
    "Overall, the recommender gave us quite reasonable recommendations according to the input."
   ]
  },
  {
   "cell_type": "code",
   "execution_count": 403,
   "metadata": {},
   "outputs": [],
   "source": [
    "index = similarities.MatrixSimilarity(lda_model[bow_corpus])"
   ]
  },
  {
   "cell_type": "code",
   "execution_count": 412,
   "metadata": {},
   "outputs": [],
   "source": [
    "corpus_lda_model = lda_model[bow_corpus]"
   ]
  },
  {
   "cell_type": "code",
   "execution_count": 541,
   "metadata": {},
   "outputs": [],
   "source": [
    "import sklearn\n",
    "from sklearn.metrics.pairwise import cosine_similarity\n",
    "import scipy\n",
    "from scipy import stats"
   ]
  },
  {
   "cell_type": "code",
   "execution_count": 614,
   "metadata": {},
   "outputs": [],
   "source": [
    "data.reset_index(inplace=True)"
   ]
  },
  {
   "cell_type": "code",
   "execution_count": 522,
   "metadata": {},
   "outputs": [],
   "source": [
    "book_dic = {c:i for i,c in enumerate(data.name)}"
   ]
  },
  {
   "cell_type": "code",
   "execution_count": 615,
   "metadata": {},
   "outputs": [],
   "source": [
    "def book_recommender(title):\n",
    "    title_ind = book_dic[title]\n",
    "    topic_ind = max(lda_model[bow_corpus][title_ind],key=lambda x:x[1])[0]\n",
    "    print('The prominent topic of',title, 'is','\\n')\n",
    "    print(topics[topic_ind])\n",
    "    sim = {}\n",
    "    for i in range(len(data.name)):\n",
    "        if i!=title_ind:\n",
    "            #sim[i] = float(cosine_similarity(index[corpus_lda_model[title_ind]].reshape(1,35991),index[corpus_lda_model[i]].reshape(1,35991))[0])\n",
    "            sim[i] = float(stats.pearsonr(index[corpus_lda_model[title_ind]],index[corpus_lda_model[i]])[0])\n",
    "    res = sorted(sim.items(),key=lambda x: -x[1])\n",
    "    recommend = [i[0] for i in res[0:10]]\n",
    "    recommend_book = [data.name[r] for r in recommend]\n",
    "    print('\\n')\n",
    "    print('The 10 Recommended Books are:')\n",
    "    for i in range(10):\n",
    "        print(recommend_book[i])"
   ]
  },
  {
   "cell_type": "code",
   "execution_count": 616,
   "metadata": {},
   "outputs": [
    {
     "name": "stdout",
     "output_type": "stream",
     "text": [
      "The prominent topic of Harry Potter and the Deathly Hallows is \n",
      "\n",
      "([(0.009846607, 'novel'), (0.008770875, 'english'), (0.008330953, 'german'), (0.0072951238, 'edition'), (0.0066370084, 'work'), (0.0057772277, 'written'), (0.0056237467, 'author'), (0.00561956, 'isbn'), (0.0049938457, 'war'), (0.004867743, 'translation')], -1.3268352804167174)\n",
      "\n",
      "\n",
      "The 10 Recommended Books are:\n",
      "Harry Potter and the Cursed Child\n",
      "Harry Potter and the Half-Blood Prince\n",
      "The Mouse and His Child\n",
      "You're Only Old Once!\n",
      "Harry Potter and the Order of the Phoenix\n",
      "Wombat Divine\n",
      "Fairyland (series)\n",
      "The Settlers (novel)\n",
      "Ronia, the Robber's Daughter\n",
      "Kådisbellan\n"
     ]
    }
   ],
   "source": [
    "book_recommender(\"Harry Potter and the Deathly Hallows\")"
   ]
  },
  {
   "cell_type": "code",
   "execution_count": 566,
   "metadata": {},
   "outputs": [
    {
     "name": "stdout",
     "output_type": "stream",
     "text": [
      "The prominent topic of God in Search of Man is \n",
      "\n",
      "([(0.0077391164, 'russian'), (0.0073286504, 'islamic'), (0.0063367356, 'ali'), (0.006199859, 'muslim'), (0.0058618924, 'islam'), (0.0051998114, 'muhammad'), (0.004599582, 'pakistan'), (0.0044075986, 'arabic'), (0.0040549207, 'ibn'), (0.00362708, 'persian')], -1.994175738295556)\n",
      "\n",
      "\n",
      "The 10 Recommended Books are:\n",
      "A Dissertation Concerning the End for Which God Created the World\n",
      "A New Christianity for a New World\n",
      "The New Meditation Handbook\n",
      "The Stoic\n",
      "The Idea of Perfection\n",
      "Kavir (book)\n",
      "The New Heart of Wisdom\n",
      "Practice in Christianity\n",
      "The Secret Doctrine\n",
      "Original Goodness (book)\n"
     ]
    }
   ],
   "source": [
    "book_recommender(\"God in Search of Man\")"
   ]
  },
  {
   "cell_type": "markdown",
   "metadata": {},
   "source": [
    "## 5 References"
   ]
  },
  {
   "cell_type": "markdown",
   "metadata": {},
   "source": [
    " - *Building an LDA-Based Book Recommender System*  \n",
    " https://humboldt-wi.github.io/blog/research/information_systems_1819/is_lda_final/?nsukey=UhUU6y2bnUe9V8D67DnwSbexQYOrQgLrPx2GBgYnqqT%2F7h%2Fi7DzXp%2B2lU3nMziegI6%2B9Gf3oIbmgetIaCWVoAeD1KmWT%2B0%2BmkBorgkFCQTsiGpyrJjLnana78Joj9QfdKANliE%2BSFQGxXnNhpQVO3DVv2euYrL5csLIsBqvUCNv3DguCRecYplylrsiD5Mq5VpSL6Jbe1Y9gEZFG%2BaoejQ%3D%3D\n",
    " - *Exploring the Space of Topic Coherence Measures*   \n",
    " http://svn.aksw.org/papers/2015/WSDM_Topic_Evaluation/public.pdf\n",
    " - *Blei, D.M., Ng, A.Y., Jordan, M.I. Latent Dirichlet allocation Journal of Machine Learning Research*\n",
    " - *Jojo,\tS.m.,\tWong,\tM.,\tDras,\tM.J.:\tTopic\tmodeling\tfor\tnative\tlanguage\tiden- tification.\tIn:\tProceedings\t\n",
    "of\tthe\tAustralasian\tLanguage\tTechnology\tAssociation\tWorkshop,\tCanberra,\tAustralia\t(2011)\t115–124*\n",
    " - *Chrupala,G.:\tEfficient\tinduction\tof\tprobabilistic\tword\tclasses\twith\tLDA.\tIn:\tProceedings\tof\tthe\tFifth\t\n",
    "International\tJoint\tConference\ton\tNatural\tLanguage\tProcessing\t(IJCNLP\t2011).\t(2011)\t363–372*\n",
    " - *Ralf\tK., Peter\tF.:\t Latent\tdirichlet\tallocation\tfor\ttag\trecommendation (2009)*"
   ]
  }
 ],
 "metadata": {
  "kernelspec": {
   "display_name": "Python 3",
   "language": "python",
   "name": "python3"
  },
  "language_info": {
   "codemirror_mode": {
    "name": "ipython",
    "version": 3
   },
   "file_extension": ".py",
   "mimetype": "text/x-python",
   "name": "python",
   "nbconvert_exporter": "python",
   "pygments_lexer": "ipython3",
   "version": "3.6.5"
  }
 },
 "nbformat": 4,
 "nbformat_minor": 2
}
